{
  "nbformat": 4,
  "nbformat_minor": 0,
  "metadata": {
    "colab": {
      "name": "week-9.ipynb",
      "provenance": [],
      "include_colab_link": true
    },
    "kernelspec": {
      "name": "python3",
      "display_name": "Python 3"
    }
  },
  "cells": [
    {
      "cell_type": "markdown",
      "metadata": {
        "id": "view-in-github",
        "colab_type": "text"
      },
      "source": [
        "<a href=\"https://colab.research.google.com/github/ibrahimtatarlar/ibo/blob/master/week_9.ipynb\" target=\"_parent\"><img src=\"https://colab.research.google.com/assets/colab-badge.svg\" alt=\"Open In Colab\"/></a>"
      ]
    },
    {
      "cell_type": "markdown",
      "metadata": {
        "id": "dyZUBb5feSUg",
        "colab_type": "text"
      },
      "source": [
        "# Uber Data Analysis"
      ]
    },
    {
      "cell_type": "code",
      "metadata": {
        "id": "YegZO6zVebZd",
        "colab_type": "code",
        "colab": {}
      },
      "source": [
        "#Import Libraries\n",
        "\n"
      ],
      "execution_count": 0,
      "outputs": []
    },
    {
      "cell_type": "code",
      "metadata": {
        "id": "aWVQs1c9iikQ",
        "colab_type": "code",
        "colab": {}
      },
      "source": [
        "# Load Data and check the head of your data\n",
        "\n"
      ],
      "execution_count": 0,
      "outputs": []
    },
    {
      "cell_type": "code",
      "metadata": {
        "id": "LjM3c02bilEH",
        "colab_type": "code",
        "colab": {}
      },
      "source": [
        "#Look for the information about your data\n"
      ],
      "execution_count": 0,
      "outputs": []
    },
    {
      "cell_type": "code",
      "metadata": {
        "id": "Ztq8EggUnkAB",
        "colab_type": "code",
        "colab": {}
      },
      "source": [
        "#Your date/time column is a plain text format, convert whole column to timestamps\n"
      ],
      "execution_count": 0,
      "outputs": []
    },
    {
      "cell_type": "code",
      "metadata": {
        "id": "MasunIQnnkSE",
        "colab_type": "code",
        "colab": {}
      },
      "source": [
        "#Check the column data type. hint: DataFrame[\"ColumnName\"][0]\n"
      ],
      "execution_count": 0,
      "outputs": []
    },
    {
      "cell_type": "code",
      "metadata": {
        "id": "v_l9iWPcnkZc",
        "colab_type": "code",
        "colab": {}
      },
      "source": [
        "#Create a function to get day of month and map it to Date/Time column to create new DayOfMonth Column.\n",
        "\n"
      ],
      "execution_count": 0,
      "outputs": []
    },
    {
      "cell_type": "code",
      "metadata": {
        "id": "zGVF94otnkdR",
        "colab_type": "code",
        "colab": {}
      },
      "source": [
        "#Create a function to get week day and map it to Date/Time column to create new WeekDay Column.\n"
      ],
      "execution_count": 0,
      "outputs": []
    },
    {
      "cell_type": "code",
      "metadata": {
        "id": "BdQuZUVonkWL",
        "colab_type": "code",
        "colab": {}
      },
      "source": [
        "#Create a function to get hour and map it to Date/Time column to create new hour Column.\n",
        "\n"
      ],
      "execution_count": 0,
      "outputs": []
    },
    {
      "cell_type": "markdown",
      "metadata": {
        "id": "Ks-qBP7uyTtX",
        "colab_type": "text"
      },
      "source": [
        "#Analysis"
      ]
    },
    {
      "cell_type": "code",
      "metadata": {
        "id": "JphDfQVLyW-8",
        "colab_type": "code",
        "colab": {}
      },
      "source": [
        "# Plot your date of Month column by using matplotlib histogram\n",
        "\n",
        "# Set the labels and titles"
      ],
      "execution_count": 0,
      "outputs": []
    },
    {
      "cell_type": "code",
      "metadata": {
        "id": "8DlYXLqdyXSY",
        "colab_type": "code",
        "colab": {}
      },
      "source": [
        "# Define a function that counts the rows by Day of the month\n",
        "\n",
        "# Group  the counts of rows by day\n",
        "\n",
        "\n",
        "# Hint: \n",
        "# for k, rows in df.groupby(\"DayOfMonth\"):\n",
        "#    print(k,len(rows))"
      ],
      "execution_count": 0,
      "outputs": []
    },
    {
      "cell_type": "code",
      "metadata": {
        "id": "i6g_MPknyXcl",
        "colab_type": "code",
        "colab": {}
      },
      "source": [
        "# Plot your result to bar graph (result from groupped by day)\n"
      ],
      "execution_count": 0,
      "outputs": []
    },
    {
      "cell_type": "code",
      "metadata": {
        "id": "qPumNuaNyXix",
        "colab_type": "code",
        "colab": {}
      },
      "source": [
        "# Sort your values\n"
      ],
      "execution_count": 0,
      "outputs": []
    },
    {
      "cell_type": "code",
      "metadata": {
        "id": "y-g3Lo06yXhi",
        "colab_type": "code",
        "colab": {}
      },
      "source": [
        "# Plot your sorted values one more time\n",
        "\n",
        "# Add ticks to your plot by index"
      ],
      "execution_count": 0,
      "outputs": []
    },
    {
      "cell_type": "markdown",
      "metadata": {
        "id": "_vg04F_aTv9K",
        "colab_type": "text"
      },
      "source": [
        "## Analyze the hours"
      ]
    },
    {
      "cell_type": "code",
      "metadata": {
        "id": "8xHONVo0TzT8",
        "colab_type": "code",
        "colab": {}
      },
      "source": [
        "# Plot your hourly data to histogram. Hint: set bins equal to 24 and range equal to (0.5,24.5)\n"
      ],
      "execution_count": 0,
      "outputs": []
    },
    {
      "cell_type": "markdown",
      "metadata": {
        "id": "P2rH2-mWVGz7",
        "colab_type": "text"
      },
      "source": [
        "## Analyze the weekday"
      ]
    },
    {
      "cell_type": "code",
      "metadata": {
        "id": "peNFtvHCPZkj",
        "colab_type": "code",
        "colab": {}
      },
      "source": [
        "# Plot your hourly data to histogram. Hint: set bins equal to 7 and range equal to (-0.5,6.5),color to green\n",
        "# Set xticks by the name of week day\n"
      ],
      "execution_count": 0,
      "outputs": []
    },
    {
      "cell_type": "markdown",
      "metadata": {
        "id": "YsgoS-rSX-_j",
        "colab_type": "text"
      },
      "source": [
        "## Cross Analysis"
      ]
    },
    {
      "cell_type": "code",
      "metadata": {
        "id": "ZL2GLNUQPZjG",
        "colab_type": "code",
        "colab": {}
      },
      "source": [
        ""
      ],
      "execution_count": 0,
      "outputs": []
    },
    {
      "cell_type": "code",
      "metadata": {
        "id": "6rEu8LxYPZfk",
        "colab_type": "code",
        "colab": {}
      },
      "source": [
        "# Group your rows by two column and unstack it and set as new dataframe. Note unstack function takes second column name and set as columns of dataframe\n",
        "# Hint: remember count_rows function"
      ],
      "execution_count": 0,
      "outputs": []
    },
    {
      "cell_type": "code",
      "metadata": {
        "id": "3rOt5vw6PZba",
        "colab_type": "code",
        "colab": {}
      },
      "source": [
        "# Create seaborn heatmap with new dataframe"
      ],
      "execution_count": 0,
      "outputs": []
    },
    {
      "cell_type": "markdown",
      "metadata": {
        "id": "SlbTtkOmcI4n",
        "colab_type": "text"
      },
      "source": [
        "## Analysis by Lon and Lat"
      ]
    },
    {
      "cell_type": "code",
      "metadata": {
        "id": "KM9V8OvQcj_4",
        "colab_type": "code",
        "colab": {}
      },
      "source": [
        "# Create a histogram with Lat, set bins to 100 because the default is 10"
      ],
      "execution_count": 0,
      "outputs": []
    },
    {
      "cell_type": "code",
      "metadata": {
        "id": "dZJ9DD68c2dJ",
        "colab_type": "code",
        "colab": {}
      },
      "source": [
        "# Create a histogram with Lon, set bins to 100"
      ],
      "execution_count": 0,
      "outputs": []
    },
    {
      "cell_type": "code",
      "metadata": {
        "id": "VsxPnmAduQXK",
        "colab_type": "code",
        "colab": {}
      },
      "source": [
        ""
      ],
      "execution_count": 0,
      "outputs": []
    }
  ]
}